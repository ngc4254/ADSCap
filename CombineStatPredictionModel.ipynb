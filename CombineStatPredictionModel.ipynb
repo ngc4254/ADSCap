{
 "cells": [
  {
   "cell_type": "code",
   "execution_count": 1,
   "metadata": {},
   "outputs": [
    {
     "name": "stdout",
     "output_type": "stream",
     "text": [
      "Requirement already up-to-date: pip in c:\\users\\riley\\anaconda3\\lib\\site-packages (20.0.2)\n"
     ]
    }
   ],
   "source": [
    "!pip install --upgrade pip\n",
    "from pip import main\n",
    "#main(['install', 'pyspark==2.4.5'])\n",
    "from pyspark import SparkContext, SparkConf\n",
    "from pyspark.sql import SparkSession, SQLContext\n",
    "sc = SparkContext(conf=SparkConf())\n",
    "spark = SparkSession(sc)"
   ]
  },
  {
   "cell_type": "code",
   "execution_count": 905,
   "metadata": {},
   "outputs": [
    {
     "name": "stdout",
     "output_type": "stream",
     "text": [
      "100% [..............................................................................] 40927 / 40927CombineStats (2).csv\n"
     ]
    }
   ],
   "source": [
    "import wget\n",
    "url = 'https://raw.githubusercontent.com/ngc4254/ADSCap/master/CombineStats.csv' #NEED TO UPDATE PER DATA SET\n",
    "filename = wget.download(url)\n",
    "print(filename)"
   ]
  },
  {
   "cell_type": "code",
   "execution_count": 906,
   "metadata": {},
   "outputs": [],
   "source": [
    "#LOAD DATA INTO DATAFRAME\n",
    "df_name ='df_combine' #NEED TO UPDATE PER DATASET\n",
    "df = spark.read.csv('CombineStats.csv',header='True',inferSchema='True') #NEED TO UPDATE PER DATA SET\n",
    "df.createOrReplaceTempView(df_name)\n",
    "\n",
    "#Rename columns to use underscores instead of spaces\n",
    "from pyspark.sql.functions import col\n",
    "from pyspark.sql.functions import *\n",
    "df_rc = [col(column).alias(column.replace(' ', '_')) for column in df.columns]\n",
    "df_sql = df.select(*df_rc)\n",
    "\n",
    "#Add index to make joins easier later on\n",
    "df_sql = df_sql.withColumn(\"id\", monotonically_increasing_id())\n",
    "df_sql.createOrReplaceTempView('mainTable')\n",
    "#df_sql.show()"
   ]
  },
  {
   "cell_type": "code",
   "execution_count": 907,
   "metadata": {},
   "outputs": [],
   "source": [
    "#Select position & draft class to be analyzed\n",
    "pos='WR' #MANUAL INPUT\n",
    "draft_class = '2020' #MANUAL INPUT\n",
    "#Create dataframe containing data to be classified\n",
    "df_2class = spark.sql('select * from mainTable where fantpos=\\'' + pos + '\\' and draft_year=' + draft_class)\n",
    "#df_2class.show()"
   ]
  },
  {
   "cell_type": "code",
   "execution_count": 908,
   "metadata": {},
   "outputs": [],
   "source": [
    "#CREATE PLAYER LOOKUP TABLE\n",
    "#NOTE THIS COULD CAUSE PROBLEMS LATER ON IF 2 PLAYERS HAVE SAME NAME AND SAME POS\n",
    "df_id = spark.sql('select distinct player, fantpos, id from mainTable') \n",
    "df_id.createOrReplaceTempView('Id')\n",
    "#df_newid = spark.sql('select distinct player, fantpos, id from main2Table') \n",
    "#df_newid.createOrReplaceTempView('newId')\n",
    "#df_id.show()"
   ]
  },
  {
   "cell_type": "code",
   "execution_count": 909,
   "metadata": {},
   "outputs": [],
   "source": [
    "#CREATE A DATA FRAME OF PLAYERS FROM OTHER DRAFT CLASSEST THAT HAVE BEEN CLASSIFIED\n",
    "#NOTE THAT RAW DATA HAS ALREADY BEEN CLASSIFIED. EACH PLAYER HAS BEEN ASSIGNED A VALUE OF 1-10 BASED ON CAREER FANTASY PRODUCTION\n",
    "df_classified = spark.sql('select * from mainTable where fantpos=\\'' + pos + '\\' and clust is not null and draft_year<' + draft_class)\n",
    "#df_classified.show()"
   ]
  },
  {
   "cell_type": "code",
   "execution_count": 910,
   "metadata": {},
   "outputs": [],
   "source": [
    "#CLEANING STEP - SET COLUMN DATA TYPES\n",
    "#df_classified.dtypes\n",
    "df_classified = df_classified.select(df_classified.espn_rank.cast(\"int\"),df_classified.height.cast(\"int\"),df_classified.weight.cast(\"int\"),df_classified.armlength.cast(\"float\"),df_classified.handsize.cast(\"float\"),df_classified.forty.cast(\"float\"),df_classified.ten_split.cast(\"float\"),df_classified.bench.cast(\"int\"),df_classified.vertical.cast(\"float\"),df_classified.broad.cast(\"int\"),df_classified.shuttle.cast(\"float\"),df_classified.cone.cast(\"float\"),df_classified.clust.cast(\"int\"),df_classified.id.cast(\"int\"),df_2class.draft_year.cast(\"int\"))\n",
    "#df_classified.show()\n",
    "df_2class = df_2class.select(df_2class.espn_rank.cast(\"int\"),df_2class.height.cast(\"int\"),df_2class.weight.cast(\"int\"),df_2class.armlength.cast(\"float\"),df_2class.handsize.cast(\"float\"),df_2class.forty.cast(\"float\"),df_2class.ten_split.cast(\"float\"),df_2class.bench.cast(\"int\"),df_2class.vertical.cast(\"float\"),df_2class.broad.cast(\"int\"),df_2class.shuttle.cast(\"float\"),df_2class.cone.cast(\"float\"),df_2class.clust.cast(\"int\"),df_2class.id.cast(\"int\"),df_2class.draft_year.cast(\"int\"))\n",
    "#df_2class.show()\n",
    "df_classified.createOrReplaceTempView('mainTable')\n",
    "df_2class.createOrReplaceTempView('main2Table')"
   ]
  },
  {
   "cell_type": "code",
   "execution_count": 911,
   "metadata": {},
   "outputs": [
    {
     "name": "stdout",
     "output_type": "stream",
     "text": [
      "These columns have been normalized:\n",
      "espn_rank\n",
      "height\n",
      "weight\n",
      "armlength\n",
      "handsize\n",
      "forty\n",
      "ten_split\n",
      "bench\n",
      "vertical\n",
      "broad\n",
      "shuttle\n",
      "cone\n"
     ]
    }
   ],
   "source": [
    "#Normalize data\n",
    "#Union together otherwise each df would need to be normalized on its own\n",
    "df_norm_full = df_classified.union(df_2class)\n",
    "df_norm_full.createOrReplaceTempView('fullTable')\n",
    "#NORMALIZE VALUE = VALUE - MIN(VALUE)/ (MAX(VALUE) - MIN(VALUE))\n",
    "#OPEN TO NORMALIZE IN OTHER WAYS, BUT THIS IS A SIMPLE WAY THAT ENSURE EACH COLUMN VARIES FROM 0 TO 1\n",
    "#ALSO NICE BECAUSE REPEATEDLY RUNNING THIS NORMALIZATION WILL NOT CHANGE RESULTS. VALUES WILL STAY THE SAME AFTER 1ST NORMALIZATION\n",
    "#FUNCTION TO NORMALIZE\n",
    "def normalize_feature(feature, df, table):\n",
    "    if \"norm_\" + feature in df.columns:\n",
    "        df = df.drop(\"norm_\" + feature)\n",
    "    df1 = spark.sql(\"SELECT a.id , (a.\" + feature + \" - b.minval)/(b.maxval - b.minval) as norm_\" + feature + \" from \" + table + \" a inner join (select min(\" + feature + \") as minval, max(\" + feature + \") as maxval from \" + table + \") b on a.\" + feature + \">=b.minval-1\")\n",
    "    df = df.join(df1, [\"id\"]).withColumn(feature, col(\"norm_\" + feature))\n",
    "    df = df.drop(\"norm_\" + feature)\n",
    "    return df\n",
    "#CALL FUNCTION FOR EACH FEATURE\n",
    "print ('These columns have been normalized:')\n",
    "for i in df_classified.columns[:-3]:\n",
    "    print(i)\n",
    "    df_norm_full = normalize_feature(i, df_norm_full, 'fullTable')\n",
    "df_norm_full.createOrReplaceTempView('fullTable')\n",
    "\n",
    "flip = 'N' #MANUAL INPUT SET TO Y TO TRIGGER FLIPPING BELOW\n",
    "#Flip any features where a lower score is better so that all features can be interpreted as 0=worst and 1=best\n",
    "#In this case: forty, ten_split, shuttle, cone\n",
    "if flip = 'Y': \n",
    "    import pandas as pd\n",
    "    df_norm_full = df_norm_full.toPandas()\n",
    "    df_norm_full['forty'] = 1 - df_norm_full['forty']\n",
    "    df_norm_full['ten_split'] = 1 - df_norm_full['ten_split']\n",
    "    df_norm_full['shuttle'] = 1 - df_norm_full['shuttle']\n",
    "    df_norm_full['cone'] = 1 - df_norm_full['cone']\n",
    "    df_norm_full = spark.createDataFrame(df_norm_full)\n",
    "    df_norm_full.createOrReplaceTempView('fullTable')"
   ]
  },
  {
   "cell_type": "code",
   "execution_count": null,
   "metadata": {},
   "outputs": [],
   "source": []
  },
  {
   "cell_type": "code",
   "execution_count": 912,
   "metadata": {},
   "outputs": [],
   "source": [
    "#Split data back into same group used in classified and 2class dataframes\n",
    "df_norm2 = spark.sql('select * from fullTable where draft_year=' + draft_class)\n",
    "df_norm2.createOrReplaceTempView('norm2Table')\n",
    "df_norm = spark.sql('select * from fullTable where draft_year<' + draft_class)\n",
    "df_norm.createOrReplaceTempView('normTable')\n",
    "\n",
    "#cleanup unnecessary stuff\n",
    "spark.catalog.dropTempView('fullTable')\n",
    "df_norm2 = df_norm2.drop('draft_year')\n",
    "df_norm = df_norm.drop('draft_year')"
   ]
  },
  {
   "cell_type": "code",
   "execution_count": 913,
   "metadata": {},
   "outputs": [],
   "source": [
    "#Function to create a correlation matrix\n",
    "from pyspark.ml.stat import Correlation\n",
    "from pyspark.ml.feature import VectorAssembler\n",
    "from pyspark.mllib.stat import Statistics\n",
    "def gen_corr_mtx(df, input_cols, output_col):\n",
    "    assembler = VectorAssembler(inputCols=input_cols, outputCol= output_col)\n",
    "    df_vect = assembler.transform(df).select(output_col)\n",
    "    corr_mtx = Correlation.corr(df_vect, output_col)\n",
    "    corr_mtx = corr_mtx.collect()[0][\"pearson(Corrs)\".format(df_vect)].values\n",
    "    corr_mtx = sc.parallelize(corr_mtx.reshape(-1, len(input_cols)))\n",
    "    corr_mtx = Statistics.corr(corr_mtx)\n",
    "    return corr_mtx"
   ]
  },
  {
   "cell_type": "code",
   "execution_count": 914,
   "metadata": {},
   "outputs": [
    {
     "name": "stdout",
     "output_type": "stream",
     "text": [
      "['espn_rank' 'height' 'weight' 'armlength' 'handsize' 'forty' 'bench']\n"
     ]
    }
   ],
   "source": [
    "#Remove any columns from consideration if their absolute correlation with 'Clust' is less than a certain amount\n",
    "#Currently seeting bar for minimum correlation at mean/2.5 but that can be configured as desired\n",
    "corr_w_clust = []\n",
    "cols = []\n",
    "for i in df_norm.columns[1:-1]:\n",
    "    #print(i)\n",
    "    corr_1 = df_norm.stat.corr(i,'clust')\n",
    "    corr_w_clust.append(corr_1)\n",
    "    cols.append(i)\n",
    "corr_w_clust = np.asarray(corr_w_clust, dtype=np.float32)\n",
    "cols = np.asarray(cols)\n",
    "cols = cols[np.where(np.abs(corr_w_clust)>np.mean(np.abs(corr_w_clust))/2.5)] #ADJUST THIS FORMULA SO THE DESIRED NUMBER OF COLUMNS ARE IN RESULT\n",
    "cols = cols[np.where(cols!='ten_split')] #I remove forty or ten_split because of high correlation. Currently using forty but would prefer ten_split because past analysis has shown it to be a better predictor of nfl success, but data in here seems unreliable\n",
    "#This could cause problems if ten_split is removed due to lack of correlation with clust, but forty is not\n",
    "#if pos=='WR':\n",
    "#    cols = cols[np.where(cols!='bench')] #I remove bench for WRs because of how few performed the drill\n",
    "print(cols)"
   ]
  },
  {
   "cell_type": "code",
   "execution_count": null,
   "metadata": {},
   "outputs": [],
   "source": []
  },
  {
   "cell_type": "code",
   "execution_count": 915,
   "metadata": {},
   "outputs": [],
   "source": [
    "#Reduce DF_NORM and DF_NORM2 to columns selected above\n",
    "select = 'select id, '\n",
    "for i in cols:\n",
    "    select = select + str(i) + ', '\n",
    "df_norm_red = spark.sql(select + ' clust from normTable')\n",
    "df_norm2_red = spark.sql(select + ' clust from norm2Table')"
   ]
  },
  {
   "cell_type": "code",
   "execution_count": 916,
   "metadata": {},
   "outputs": [],
   "source": [
    "#I get correlation matrix after normalizing but you could get the same result doing it before\n",
    "corr_mtx_normed = gen_corr_mtx(df_norm_red.union(df_norm2_red), cols,'Corrs') #IGNORES FIRST AND LAST COLUMN BECAUSE THEY AREN'T FEATURES\n",
    "#print(corr_mtx_normed)"
   ]
  },
  {
   "cell_type": "code",
   "execution_count": 917,
   "metadata": {},
   "outputs": [
    {
     "name": "stdout",
     "output_type": "stream",
     "text": [
      "The features that will be included in regression are: ['espn_rank' 'height' 'forty' 'bench']\n",
      "The remaining columns in the dataframe are: ['espn_rank' 'height' 'forty' 'bench' 'clust' 'id']\n"
     ]
    }
   ],
   "source": [
    "import numpy as np\n",
    "feature_selection = np.empty([1,1])\n",
    "#Returns list of features with less than the specified abs(corr coeff) as well as the measurement column\n",
    "def select_features(corr_mtx, df,measure,max_corr_coeff):\n",
    "    col_num = corr_mtx.shape[0]\n",
    "    mask = np.full((col_num,), True, dtype=bool)\n",
    "    for i in range(col_num):\n",
    "        for j in range(i+1, col_num):\n",
    "            if corr_mtx[i,j] >= max_corr_coeff:# or corr_mtx[i,j] <= -1 * max_corr_coeff:\n",
    "                if mask[j]:\n",
    "                    mask[j] = False\n",
    "    feature_selection = np.array(df.columns[1:-1])[mask]\n",
    "    #This step just add the measurement column back in.\n",
    "    if measure not in feature_selection:\n",
    "        all_columns = np.append(feature_selection,measure)\n",
    "        all_columns = np.append(all_columns,'id')\n",
    "    return feature_selection, all_columns\n",
    "\n",
    "#THIS IS WHERE YOU SPECIFY CORR MATRIX, MEASUREMENT COL, MAXIMUM ALLOWABLE CORRELATEION COEFF\n",
    "#RECOMMEND TWEAKING MAX COEFF PARAMETER TO PRODUCE NO FEWER THAN 3 FEATURES. THIS COULD BE PROGRAMMED SO THAT INPUT IT DESIRED # OF FEATURES\n",
    "feature_selection, all_columns = select_features(corr_mtx_normed,df_norm_red.union(df_norm2_red),'clust',0.3) #MANUAL INPUT (LAST NUMBER ONLY)\n",
    "print('The features that will be included in regression are: ' + str(feature_selection))\n",
    "print('The remaining columns in the dataframe are: ' + str(all_columns))"
   ]
  },
  {
   "cell_type": "code",
   "execution_count": 918,
   "metadata": {},
   "outputs": [],
   "source": [
    "#Create dataframes without rows that failed feature selection test\n",
    "select_cols = 'select '\n",
    "for i in all_columns:\n",
    "    select_cols = select_cols + str(i) + ', '\n",
    "df_comp = spark.sql(select_cols[:-2] + ' from normTable')\n",
    "df_comp2 = spark.sql(select_cols[:-2] + ' from norm2Table a')\n",
    "select_cols = 'select '\n",
    "for i in feature_selection:\n",
    "    select_cols = select_cols + str(i) + ', '\n",
    "df_feat = spark.sql(select_cols[:-2] + ' from normTable')\n",
    "df_feat2 = spark.sql(select_cols[:-2] + ' from norm2Table a')"
   ]
  },
  {
   "cell_type": "code",
   "execution_count": 919,
   "metadata": {},
   "outputs": [],
   "source": [
    "#Create a single dataframe will all the data to allow new and old to be clustered together\n",
    "df_all = df_feat.union(df_feat2)\n",
    "#df_all.count()"
   ]
  },
  {
   "cell_type": "code",
   "execution_count": 963,
   "metadata": {},
   "outputs": [
    {
     "data": {
      "text/plain": [
       "[<matplotlib.lines.Line2D at 0x27ac7c02208>]"
      ]
     },
     "execution_count": 963,
     "metadata": {},
     "output_type": "execute_result"
    },
    {
     "data": {
      "image/png": "[encoded data removed]",
      "text/plain": [
       "<Figure size 432x288 with 1 Axes>"
      ]
     },
     "metadata": {
      "needs_background": "light"
     },
     "output_type": "display_data"
    }
   ],
   "source": [
    "#Step for DBSCAN to cluster players based on remaining features.\n",
    "#PARAMETER TUNING (EPS & MIN_SAMPLES) SHOULD BE AUTOMATED BUT BELOW IS CURRENTLY MANUAL\n",
    "\n",
    "from sklearn.neighbors import NearestNeighbors\n",
    "from sklearn.cluster import DBSCAN\n",
    "from sklearn.preprocessing import StandardScaler \n",
    "from sklearn.preprocessing import normalize\n",
    "import pandas as pd\n",
    "import matplotlib.pyplot as plt\n",
    "#import multipolyfit as mpf\n",
    "\n",
    "df_clust = df_all.toPandas()\n",
    "df_clust = StandardScaler().fit_transform(df_clust)\n",
    "df_clust = normalize(df_clust) #Do I want this?\n",
    "df_clust = pd.DataFrame(df_clust)\n",
    "\n",
    "distances, indices = NearestNeighbors(n_neighbors=2).fit(df_clust).kneighbors(df_clust)\n",
    "y = np.sort(distances,axis=0)[:,1]\n",
    "x = np.sort(indices,axis=0)[:,1]\n",
    "plt.plot(y)\n",
    "\n",
    "#Create\n",
    "degrees=3 #MANUAL INPUT. DETERMINE BASED ON PLT.PLOT(Y)\n",
    "z=np.polyfit(x, y, degrees)\n",
    "x_smooth = np.arange(np.min(x)-1, np.max(x)+1, 1)\n",
    "y_smooth = np.polyval(z, x_smooth)\n",
    "plt.plot(y_smooth)"
   ]
  },
  {
   "cell_type": "code",
   "execution_count": 988,
   "metadata": {},
   "outputs": [
    {
     "name": "stdout",
     "output_type": "stream",
     "text": [
      "0.43729643846458793\n"
     ]
    }
   ],
   "source": [
    "ydif = np.diff(y_smooth)\n",
    "ydif2 = np.diff(y_smooth,n=2)\n",
    "cur = (1 + ydif**2)**1.5\n",
    "cur = ydif2/cur[1:]\n",
    "#ydif = np.where(np.isnan(ydif),-999,ydif)\n",
    "#ydif = np.where(np.isinf(ydif),-999,ydif)\n",
    "eps = y_smooth[np.where(cur==np.amax(cur))][0]\n",
    "#Scale eps down slightly, ir gives much better results\n",
    "eps = 0.99*eps #trying to approximate logic from https://iopscience.iop.org/article/10.1088/1755-1315/31/1/012012/pdf\n",
    "#eps = eps-0.01\n",
    "print(eps)"
   ]
  },
  {
   "cell_type": "code",
   "execution_count": 989,
   "metadata": {},
   "outputs": [
    {
     "name": "stdout",
     "output_type": "stream",
     "text": [
      "(array([-1,  0,  1,  2,  3,  4,  5,  6], dtype=int64), array([20, 67, 39,  9, 64,  4,  5,  4], dtype=int64))\n"
     ]
    }
   ],
   "source": [
    "#Maunal optimization notes.. \n",
    "#corr_coeff eps num_samples dist([])\n",
    "#.65 .49 6 ([23, 94,  4, 46,  4,  5,  4]))\n",
    "#.65 .425 4 ([28, 76, 52,  5,  5,  5,  9]))\n",
    "#df_dbscan = DBSCAN(eps = 0.4056, min_samples = 4).fit(df_clust) #use these values if features are espn_rank, height, ten_split, bench\n",
    "#df_dbscan = DBSCAN(eps = 0.26, min_samples = 4, metric='euclidean').fit(df_clust) #use these values for features espn_rank, height, ten_split\n",
    "df_dbscan = DBSCAN(eps = eps, min_samples = 4, metric='euclidean').fit(df_clust) \n",
    "#df_dbscan = DBSCAN(eps = 0.43, min_samples = 4, metric='euclidean').fit(df_clust)\n",
    "labels = df_dbscan.labels_\n",
    "print(np.unique(labels, return_counts=True))"
   ]
  },
  {
   "cell_type": "code",
   "execution_count": 990,
   "metadata": {},
   "outputs": [
    {
     "data": {
      "image/png": "[encoded data removed]",
      "text/plain": [
       "<Figure size 432x288 with 1 Axes>"
      ]
     },
     "metadata": {
      "needs_background": "light"
     },
     "output_type": "display_data"
    }
   ],
   "source": [
    "#CREATE SCATTER PLOT\n",
    "#CURRENT SET UP INCLUDES MAX OF 16 COLOURS OR 16 LABELS FROM PREVIOUS RESULT\n",
    "\n",
    "from mpl_toolkits.mplot3d import Axes3D\n",
    "import matplotlib.colors as mcolors\n",
    "import matplotlib._color_data as mcd\n",
    "%matplotlib inline\n",
    "\n",
    "#SETTING TO 3D FOR THIS CASE SINCE THERE ARE 3 FEATURES. SHOULD BE MORE GENERAL\n",
    "fig = plt.figure()\n",
    "ax = Axes3D(fig)\n",
    "\n",
    "#NEED TO IMPORT MORE COLOURS\n",
    "colours = {} \n",
    "colours[0] = 'r'\n",
    "colours[1] = 'g'\n",
    "colours[2] = 'b'\n",
    "colours[3] = 'y'\n",
    "colours[4] = 'w'\n",
    "colours[5] = 'c'\n",
    "colours[6] = 'm'\n",
    "colours[7] = mcd.CSS4_COLORS['aqua']\n",
    "colours[8] = mcd.CSS4_COLORS['beige']\n",
    "colours[9] = mcd.CSS4_COLORS['pink']\n",
    "colours[10] = mcd.CSS4_COLORS['purple']\n",
    "colours[11] = mcd.CSS4_COLORS['lime']\n",
    "colours[12] = mcd.CSS4_COLORS['darkblue']\n",
    "colours[13] = mcd.CSS4_COLORS['brown']\n",
    "colours[14] = mcd.CSS4_COLORS['silver']\n",
    "colours[-1] = 'k'\n",
    "  \n",
    "cvec = [colours[label] for label in labels]\n",
    "\n",
    "\n",
    "k = ax.scatter(df_scal[df_scal.columns[0]], df_scal[df_scal.columns[1]], df_scal[df_scal.columns[2]], marker ='o', color = colours[-1])\n",
    "r = ax.scatter(df_scal[df_scal.columns[0]], df_scal[df_scal.columns[1]], df_scal[df_scal.columns[2]], marker ='o', color = colours[0]) \n",
    "g = ax.scatter(df_scal[df_scal.columns[0]], df_scal[df_scal.columns[1]], df_scal[df_scal.columns[2]], marker ='o', color = colours[1]) \n",
    "b = ax.scatter(df_scal[df_scal.columns[0]], df_scal[df_scal.columns[1]], df_scal[df_scal.columns[2]], marker ='o', color = colours[2]) \n",
    "y = ax.scatter(df_scal[df_scal.columns[0]], df_scal[df_scal.columns[1]], df_scal[df_scal.columns[2]], marker ='o', color = colours[3])\n",
    "w = ax.scatter(df_scal[df_scal.columns[0]], df_scal[df_scal.columns[1]], df_scal[df_scal.columns[2]], marker ='o', color = colours[4]) \n",
    "c = ax.scatter(df_scal[df_scal.columns[0]], df_scal[df_scal.columns[1]], df_scal[df_scal.columns[2]], marker ='o', color = colours[5]) \n",
    "m = ax.scatter(df_scal[df_scal.columns[0]], df_scal[df_scal.columns[1]], df_scal[df_scal.columns[2]], marker ='o', color = colours[6])  \n",
    "aqua = ax.scatter(df_scal[df_scal.columns[0]], df_scal[df_scal.columns[1]], df_scal[df_scal.columns[2]], marker ='o', color = colours[7]) \n",
    "beige = ax.scatter(df_scal[df_scal.columns[0]], df_scal[df_scal.columns[1]], df_scal[df_scal.columns[2]], marker ='o', color = colours[8]) \n",
    "pink = ax.scatter(df_scal[df_scal.columns[0]], df_scal[df_scal.columns[1]], df_scal[df_scal.columns[2]], marker ='o', color = colours[9])\n",
    "purple = ax.scatter(df_scal[df_scal.columns[0]], df_scal[df_scal.columns[1]], df_scal[df_scal.columns[2]], marker ='o', color = colours[10])\n",
    "lime = ax.scatter(df_scal[df_scal.columns[0]], df_scal[df_scal.columns[1]], df_scal[df_scal.columns[2]], marker ='o', color = colours[11])\n",
    "darkblue = ax.scatter(df_scal[df_scal.columns[0]], df_scal[df_scal.columns[1]], df_scal[df_scal.columns[2]], marker ='o', color = colours[12])\n",
    "brown = ax.scatter(df_scal[df_scal.columns[0]], df_scal[df_scal.columns[1]], df_scal[df_scal.columns[2]], marker ='o', color = colours[13])\n",
    "silver = ax.scatter(df_scal[df_scal.columns[0]], df_scal[df_scal.columns[1]], df_scal[df_scal.columns[2]], marker ='o', color = colours[14])\n",
    "\n",
    "#plt.figure(figsize =(9, 9)) \n",
    "ax.scatter(df_scal[df_scal.columns[0]], df_scal[df_scal.columns[1]], df_scal[df_scal.columns[2]], c = cvec)\n",
    "plt.show()"
   ]
  },
  {
   "cell_type": "code",
   "execution_count": 991,
   "metadata": {},
   "outputs": [],
   "source": [
    "#Add new classification value to data\n",
    "df_all = df_feat.union(df_feat2)\n",
    "df_all = df_all.toPandas()\n",
    "df_all['class'] = cvec\n",
    "df_all = spark.createDataFrame(df_all)"
   ]
  },
  {
   "cell_type": "code",
   "execution_count": 992,
   "metadata": {},
   "outputs": [
    {
     "name": "stdout",
     "output_type": "stream",
     "text": [
      "espn_rank\n",
      "height\n",
      "forty\n",
      "bench\n"
     ]
    }
   ],
   "source": [
    "#Create string for join conditions\n",
    "join_cons_ab = ''\n",
    "join_cons_ac = ''\n",
    "for i in df_feat.columns:\n",
    "    print(i)\n",
    "    join_cons_ab = join_cons_ab + ' a.' + i + '=b.' + i + ' and'\n",
    "    join_cons_ac = join_cons_ac + ' a.' + i + '=c.' + i + ' and'\n",
    "join_cons_ab = join_cons_ab[:-3]\n",
    "join_cons_ac = join_cons_ac[:-3]"
   ]
  },
  {
   "cell_type": "code",
   "execution_count": 993,
   "metadata": {},
   "outputs": [
    {
     "name": "stdout",
     "output_type": "stream",
     "text": [
      "180\n",
      "32\n"
     ]
    }
   ],
   "source": [
    "#Create Train and Test datasets\n",
    "#Should really split df_train into train and test using train_test_split, but doing it this way because of small sample size\n",
    "#Could see problems if there are multiple players with the exact same values in all feature columns\n",
    "df_all.createOrReplaceTempView('all_data')\n",
    "df_comp2.createOrReplaceTempView('new_data')\n",
    "df_comp.createOrReplaceTempView('old_data')\n",
    "df_train = spark.sql(\"SELECT a.*, c.id from all_data a left join new_data b on \" + join_cons_ab + \" inner join old_data c on \" + join_cons_ac + \" where b.id is null\")\n",
    "print(df_train.count())\n",
    "df_test = spark.sql(\"SELECT a.*, b.id from all_data a inner join new_data b on \" + join_cons_ab)\n",
    "print(df_test.count())"
   ]
  },
  {
   "cell_type": "code",
   "execution_count": 994,
   "metadata": {},
   "outputs": [
    {
     "name": "stdout",
     "output_type": "stream",
     "text": [
      "random forest regression selected\n"
     ]
    }
   ],
   "source": [
    "#Create pipelines for several types of regression so user has option\n",
    "from pyspark.ml import Pipeline\n",
    "from pyspark.ml.feature import StringIndexer, VectorAssembler, Normalizer\n",
    "Reg_Type='Random Forest' #MANUAL INPUT, SPECIFY DESIRED REGRESSION TYPE HERE\n",
    "if Reg_Type =='Linear':\n",
    "    from pyspark.ml.regression import LinearRegression\n",
    "    indexer = StringIndexer(inputCol='class', outputCol='label')\n",
    "    vectorAssembler = VectorAssembler(inputCols=df_train.columns[:-2], outputCol='features')\n",
    "    #normalizer = Normalizer(inputCol='features', outputCol = 'features_norm', p=1.0)\n",
    "    lir = LinearRegression(maxIter=10, regParam=0.3, elasticNetParam=0.8)\n",
    "    pipeline = Pipeline(stages=[indexer, vectorAssembler, lir])\n",
    "    print('linear regression selected')\n",
    "\n",
    "if Reg_Type == 'Logistic':\n",
    "    from pyspark.ml.classification import LogisticRegression\n",
    "    indexer = StringIndexer(inputCol='class', outputCol='label')\n",
    "    vectorAssembler = VectorAssembler(inputCols=df_train.columns[:-2], outputCol='features')\n",
    "    lor = LogisticRegression(maxIter=10, regParam=0.3, elasticNetParam=0.8)\n",
    "    pipeline = Pipeline(stages=[indexer, vectorAssembler, lor])\n",
    "    print ('logistic regression selected')\n",
    "\n",
    "if Reg_Type == 'Random Forest':\n",
    "    from pyspark.ml.regression import RandomForestRegressor\n",
    "    indexer = StringIndexer(inputCol='class', outputCol='label')\n",
    "    vectorAssembler = VectorAssembler(inputCols=df_train.columns[:-2], outputCol='features')\n",
    "    rf = RandomForestRegressor(featuresCol=\"features\")\n",
    "    pipeline = Pipeline(stages=[indexer, vectorAssembler, rf])\n",
    "    print ('random forest regression selected')\n",
    "    \n",
    "if Reg_Type == 'Naive Bayes':\n",
    "    from pyspark.ml.classification import NaiveBayes\n",
    "    indexer = StringIndexer(inputCol='class', outputCol='label')\n",
    "    vectorAssembler = VectorAssembler(inputCols=df_train.columns[:-2], outputCol='features')\n",
    "    nb = NaiveBayes(smoothing=1.0, modelType=\"multinomial\")\n",
    "    pipeline = Pipeline(stages=[indexer, vectorAssembler, nb])\n",
    "    print ('naive bayes selected')"
   ]
  },
  {
   "cell_type": "code",
   "execution_count": 995,
   "metadata": {},
   "outputs": [
    {
     "name": "stdout",
     "output_type": "stream",
     "text": [
      "+--------------------+-------------------+-------------------+-------------------+---+-----+--------------------+--------------------+-------+\n",
      "|           espn_rank|             height|              forty|              bench| id|label|          prediction|              player|fantpos|\n",
      "+--------------------+-------------------+-------------------+-------------------+---+-----+--------------------+--------------------+-------+\n",
      "|  0.7794117647058824| 0.2727272727272727| 0.3225809180648114| 0.5652173913043478|119|  2.0|  2.0802686961072054|         Golden Tate|     WR|\n",
      "|  0.8676470588235294|0.36363636363636365| 0.3387095409675943| 0.5652173913043478|320|  2.0|  1.7041407867494827|       Corey Coleman|     WR|\n",
      "|                0.75|0.45454545454545453| 0.3548389329621184| 0.6521739130434783|235|  2.0|   2.125909721748231|        Torrey Smith|     WR|\n",
      "|  0.9264705882352942| 0.5454545454545454| 0.3225809180648114| 0.5217391304347826| 33|  0.0|                 0.0|        Amari Cooper|     WR|\n",
      "|  0.6029411764705882|0.36363636363636365| 0.2903229031675043|0.34782608695652173|104|  2.0|  2.2005593687914953|    Emmanuel Sanders|     WR|\n",
      "|0.014705882352941176| 0.2727272727272727| 0.6451610670378816| 0.4782608695652174|313|  1.0|  1.0896650450998278|     Keenan Reynolds|     WR|\n",
      "|  0.7941176470588235|0.45454545454545453| 0.4354835856595154| 0.6521739130434783| 42|  2.0|  2.1493483664368758|          A.J. Brown|     WR|\n",
      "|  0.8088235294117647| 0.5454545454545454| 0.6129030521405746| 0.4782608695652174| 11|  0.0| 0.43217278596582764|     DeAndre Hopkins|     WR|\n",
      "|  0.8382352941176471| 0.2727272727272727| 0.1774194664810592|  0.391304347826087|353|  2.0|   2.060192938531448|     Phillip Dorsett|     WR|\n",
      "| 0.20588235294117646| 0.6363636363636364| 0.3387095409675943| 0.6086956521739131|408|  5.0|  3.5516150793650794|       Ricardo Louis|     WR|\n",
      "| 0.36764705882352944| 0.7272727272727273| 0.3548389329621184| 0.6521739130434783|356|  0.0|  2.0881626984126984|        Robert Davis|     WR|\n",
      "| 0.35294117647058826| 0.9090909090909091| 0.7741931266271097| 0.6086956521739131|303|  1.0|  0.8495929810929812|          Auden Tate|     WR|\n",
      "|  0.7941176470588235| 0.5454545454545454| 0.5483870223459605|0.43478260869565216| 46|  0.0| 0.28217278596582757|       Davante Adams|     WR|\n",
      "|  0.6911764705882353| 0.7272727272727273| 0.5483870223459605| 0.5652173913043478| 91|  0.0|             0.05125|      Allen Robinson|     WR|\n",
      "|  0.8088235294117647| 0.7272727272727273| 0.6129030521405746| 0.6086956521739131|  9|  0.0| 0.09579545454545454|      Michael Thomas|     WR|\n",
      "|  0.8529411764705882|0.45454545454545453| 0.3225809180648114|0.34782608695652173|197|  2.0|  1.9153150291737249|      Nelson Agholor|     WR|\n",
      "|  0.8970588235294118| 0.7272727272727273| 0.3709675558649013| 0.5652173913043478|134|  0.0|                 0.0|      DeVante Parker|     WR|\n",
      "| 0.19117647058823528| 0.5454545454545454| 0.6290324441350986|0.21739130434782608|343|  1.0|  1.6443785867720124|   Demarcus Robinson|     WR|\n",
      "|  0.8529411764705882| 0.6363636363636364| 0.3225809180648114| 0.6086956521739131|301|  0.0|                0.05|Cordarrelle Patte...|     WR|\n",
      "| 0.23529411764705882| 0.6363636363636364| 0.6451610670378816|0.43478260869565216|374|  1.0|  1.0019100551378792|         Isaiah Ford|     WR|\n",
      "|  0.7794117647058824| 0.2727272727272727| 0.5322583994431775| 0.5217391304347826|115|  3.0|  2.2783977228775365|        Randall Cobb|     WR|\n",
      "|                0.25| 0.5454545454545454|0.41935496275673245| 0.7391304347826086|407|  3.0|  2.6695070207570204|       Chad Williams|     WR|\n",
      "|  0.6323529411764706|0.45454545454545453| 0.4354835856595154| 0.2608695652173913|317|  4.0|  2.6403832948654213|    ArDarius Stewart|     WR|\n",
      "|  0.8235294117647058| 0.8181818181818182| 0.6612904590324057| 0.5652173913043478|256|  0.0|0.024583333333333336|      Devin Funchess|     WR|\n",
      "| 0.29411764705882354|0.45454545454545453| 0.6290324441350986|0.17391304347826086|332|  1.0|   1.852704753772284|          Ryan Grant|     WR|\n",
      "|                0.25| 0.6363636363636364| 0.5645164143404846|0.43478260869565216|267|  1.0|  1.0019100551378792|         Zach Pascal|     WR|\n",
      "|  0.5294117647058824|0.36363636363636365| 0.3387095409675943|0.43478260869565216|244|  2.0|   2.161543764830239|         Keke Coutee|     WR|\n",
      "|  0.7647058823529411|0.36363636363636365| 0.5322583994431775|0.43478260869565216|263|  3.0|  2.4668796576094714|    James Washington|     WR|\n",
      "|  0.6764705882352942| 0.7272727272727273| 0.6451610670378816|0.30434782608695654|196|  0.0| 0.21153347358738475|      Brandon LaFell|     WR|\n",
      "|  0.7205882352941176| 0.8181818181818182| 0.3225809180648114|0.34782608695652173|348|  3.0|  1.4849999999999999|        Miles Boykin|     WR|\n",
      "|0.014705882352941176|0.09090909090909091| 0.5483870223459605|0.21739130434782608|357|  1.0|  1.1130604902344035|       Victor Bolden|     WR|\n",
      "|  0.5441176470588235| 0.6363636363636364| 0.6612904590324057| 0.6521739130434783|167|  1.0|  1.0746636467311768|        Mohamed Sanu|     WR|\n",
      "|  0.6911764705882353| 0.5454545454545454| 0.5806450372432675|  0.391304347826087|428|  0.0|   0.333877331420373|        Riley Ridley|     WR|\n",
      "|  0.1323529411764706|0.09090909090909091| 0.6612904590324057|  0.391304347826087|338|  1.0|  1.0896650450998278|        Trent Taylor|     WR|\n",
      "|  0.3088235294117647|0.45454545454545453| 0.9516125931081689| 0.4782608695652174|292|  1.0|  1.7507792879337747|     Deontay Burnett|     WR|\n",
      "|  0.8088235294117647|0.36363636363636365|0.14516145158375215| 0.6086956521739131|202|  2.0|  2.0511020294405387|       Curtis Samuel|     WR|\n",
      "| 0.11764705882352941| 0.7272727272727273| 0.6774190819351886| 0.5217391304347826|227|  1.0|  1.0908073317742866|    Geronimo Allison|     WR|\n",
      "|                0.25| 0.6363636363636364| 0.6612904590324057|  0.391304347826087|396|  1.0|  1.0081600551378793|       Jakobi Meyers|     WR|\n",
      "|  0.8676470588235294| 0.2727272727272727|0.20967748137836623|0.43478260869565216| 36|  2.0|  1.8840650291737249|      DeSean Jackson|     WR|\n",
      "| 0.07352941176470588|0.36363636363636365| 0.6451610670378816|0.30434782608695654|206|  1.0|    1.14200270743749|        Willie Snead|     WR|\n",
      "|  0.5147058823529411| 0.2727272727272727| 0.5000003845458706| 0.4782608695652174|173|  3.0|   2.047557306205033|     Diontae Johnson|     WR|\n",
      "|  0.6323529411764706| 0.5454545454545454| 0.5645164143404846| 0.5217391304347826|361|  3.0|  1.7867618776224492|    DaeSean Hamilton|     WR|\n",
      "| 0.23529411764705882|0.18181818181818182| 0.3870969478594254| 0.6956521739130435|347|  3.0|   2.834878772021629|   Michael Campanaro|     WR|\n",
      "|  0.4411764705882353| 0.7272727272727273|0.20967748137836623| 0.6086956521739131|259|  3.0|  2.5020317460317463|        Chris Conley|     WR|\n",
      "| 0.11764705882352941| 0.2727272727272727| 0.5967744292377917|0.13043478260869565|137|  1.0|  1.2630604902344034|      Hunter Renfrow|     WR|\n",
      "|  0.5735294117647058| 0.5454545454545454|0.27419351117298024|0.30434782608695654|112|  2.0|  3.2532271806207973|      Darius Slayton|     WR|\n",
      "|  0.6764705882352942| 0.5454545454545454| 0.3387095409675943| 0.8260869565217391|383|  0.0|  0.5061742424242424|       Sammie Coates|     WR|\n",
      "|  0.8676470588235294| 0.8181818181818182| 0.3548389329621184| 0.5217391304347826|299|  0.0|                 0.0|       Justin Hunter|     WR|\n",
      "| 0.08823529411764706|0.18181818181818182| 0.3387095409675943| 0.2608695652173913|251|  1.0|   2.005335497835498|       Albert Wilson|     WR|\n",
      "| 0.07352941176470588| 0.5454545454545454| 0.6774190819351886| 0.5217391304347826|310|  1.0|  1.3873386708056255|        Keon Hatcher|     WR|\n",
      "|  0.5441176470588235| 0.6363636363636364| 0.3548389329621184|0.34782608695652173|381|  6.0|    4.63008865248227|       Charone Peake|     WR|\n",
      "| 0.39705882352941174|0.45454545454545453| 0.1774194664810592|0.43478260869565216|138|  2.0|  2.2276826537191274|        Mike Wallace|     WR|\n",
      "|                 0.0|0.45454545454545453|                1.0|0.34782608695652173|432|  1.0|  1.4333811116419812|        Cam Phillips|     WR|\n",
      "|  0.9411764705882353| 0.7272727272727273|0.19354885847558326| 0.5652173913043478|  8|  0.0|                 0.1|         Julio Jones|     WR|\n",
      "|  0.7794117647058824|0.36363636363636365| 0.8064511415244168|0.34782608695652173| 31|  3.0|  3.5079038714908277|       Jarvis Landry|     WR|\n",
      "|  0.8382352941176471| 0.6363636363636364| 0.4354835856595154| 0.8260869565217391|322|  0.0|0.014583333333333334|        Cody Latimer|     WR|\n",
      "|  0.3088235294117647| 0.7272727272727273| 0.3225809180648114| 0.6956521739130435|329|  5.0|   3.961924603174604|          Jeff Janis|     WR|\n",
      "|  0.7058823529411765|0.18181818181818182| 0.3709675558649013| 0.4782608695652174|333|  2.0|  2.0279930550815646|     Bruce Ellington|     WR|\n",
      "|                0.75| 0.2727272727272727| 0.2903229031675043|0.43478260869565216| 96|  2.0|  2.0476929385314477|       Tyler Lockett|     WR|\n",
      "|  0.5588235294117647|                1.0| 0.5483870223459605| 0.7391304347826086|438|  0.0|  0.2751317523056654|     Brandon Coleman|     WR|\n",
      "|  0.6176470588235294| 0.2727272727272727| 0.5967744292377917|0.30434782608695654|328|  1.0|  1.8260830721412855|        Justin Hardy|     WR|\n",
      "|  0.7647058823529411| 0.5454545454545454| 0.5161290074486535| 0.4782608695652174| 48|  0.0| 0.28217278596582757| JuJu Smith-Schuster|     WR|\n",
      "|  0.4852941176470588|0.18181818181818182| 0.5161290074486535| 0.2608695652173913|146|  1.0|  1.9276864431796839|     Jamison Crowder|     WR|\n",
      "|  0.2647058823529412|0.18181818181818182| 0.4354835856595154|0.30434782608695654|351|  1.0|  1.6800217329254596|     Braxton Berrios|     WR|\n",
      "|  0.4117647058823529|0.36363636363636365|0.19354885847558326|0.17391304347826086|168|  4.0|   3.221628541165015|          John Brown|     WR|\n",
      "| 0.23529411764705882| 0.7272727272727273| 0.5161290074486535| 0.8260869565217391|365|  3.0|  1.7944895241634373|        Geremy Davis|     WR|\n",
      "|  0.8235294117647058| 0.6363636363636364| 0.5000003845458706|                1.0|316|  0.0|0.024583333333333336|         NKeal Harry|     WR|\n",
      "|0.029411764705882353| 0.9090909090909091| 0.5645164143404846|0.21739130434782608|341|  1.0|  1.5436870745804998|       Jordan Taylor|     WR|\n",
      "|  0.8235294117647058| 0.6363636363636364| 0.3709675558649013| 0.4782608695652174|237|  0.0|                 0.0|           Zay Jones|     WR|\n",
      "|  0.8676470588235294|0.45454545454545453|0.16129084357827622| 0.2608695652173913|108|  2.0|  1.9343626482213438|         Will Fuller|     WR|\n",
      "|  0.9117647058823529| 0.7272727272727273|0.20967748137836623| 0.8260869565217391|372|  0.0|                 0.0|         Kevin White|     WR|\n",
      "|  0.9264705882352942| 0.6363636363636364| 0.5645164143404846|0.43478260869565216| 28|  0.0|             0.15625|          Dez Bryant|     WR|\n",
      "|  0.7058823529411765| 0.7272727272727273| 0.5645164143404846| 0.4782608695652174|406|  0.0| 0.08762733142037303|         Brian Quick|     WR|\n",
      "| 0.36764705882352944| 0.8181818181818182| 0.6451610670378816|  0.391304347826087|397|  1.0|   1.187516206233161|      Marcell Ateman|     WR|\n",
      "|  0.6176470588235294| 0.6363636363636364| 0.5806450372432675| 0.4782608695652174|319|  0.0| 0.39296960709104833|      Travis Fulgham|     WR|\n",
      "|  0.5588235294117647|0.18181818181818182|0.08064542178913811|  0.391304347826087|336|  2.0|   2.736202587095444|    Marquise Goodwin|     WR|\n",
      "|  0.6764705882352942|0.36363636363636365| 0.5000003845458706| 0.4782608695652174|289|  3.0|   2.513277402376781|       Rashad Greene|     WR|\n",
      "|  0.8088235294117647| 0.7272727272727273| 0.4677423696485635| 0.5652173913043478| 65|  0.0| 0.09579545454545454|        Jordy Nelson|     WR|\n",
      "|                0.25| 0.5454545454545454| 0.3225809180648114|0.30434782608695654|327|  4.0|  3.1114942279942275|        Trevor Davis|     WR|\n",
      "|  0.8823529411764706| 0.6363636363636364|0.45161297765403946|0.43478260869565216|360|  0.0| 0.39034090909090907|        Josh Doctson|     WR|\n",
      "|  0.6617647058823529|0.36363636363636365|0.45161297765403946|  0.391304347826087|326|  3.0|  2.2003607357101145|       Taywan Taylor|     WR|\n",
      "| 0.45588235294117646|0.36363636363636365| 0.4354835856595154|0.17391304347826086|358|  4.0|  2.5859905517034965|      Shelton Gibson|     WR|\n",
      "|  0.9117647058823529|0.09090909090909091|0.19354885847558326|0.43478260869565216|283|  2.0|  1.9090650291737248|        Tavon Austin|     WR|\n",
      "|  0.7647058823529411| 0.7272727272727273| 0.3870969478594254| 0.7391304347826086|200|  0.0|                 0.1|     Jordan Matthews|     WR|\n",
      "|0.058823529411764705|0.45454545454545453| 0.5322583994431775| 0.4782608695652174|401|  1.0|  1.2102444656792481|        Russell Gage|     WR|\n",
      "| 0.35294117647058826|0.45454545454545453| 0.5483870223459605| 0.6956521739130435|240|  3.0|   2.141974246184634|    Rishard Matthews|     WR|\n",
      "|  0.6617647058823529| 0.8181818181818182| 0.3225809180648114| 0.5217391304347826|205|  0.0| 0.21416666666666667|     Martavis Bryant|     WR|\n",
      "|  0.6764705882352942| 0.5454545454545454| 0.5000003845458706| 0.4782608695652174|284|  0.0|  0.7638777959317071|        Dante Pettis|     WR|\n",
      "|  0.5735294117647058|0.18181818181818182|0.14516145158375215| 0.4782608695652174|376|  2.0|   2.270627190270047|       Andy Isabella|     WR|\n",
      "|  0.5735294117647058| 0.9090909090909091| 0.5483870223459605| 0.6086956521739131| 64|  0.0| 0.18376811594202896|    Brandon Marshall|     WR|\n",
      "|  0.7794117647058824| 0.8181818181818182| 0.5161290074486535| 0.6086956521739131|100|  0.0| 0.09579545454545454|    Courtland Sutton|     WR|\n",
      "|                 1.0| 0.9090909090909091|0.20967748137836623| 0.6521739130434783|  1|  0.0|                0.15|      Calvin Johnson|     WR|\n",
      "| 0.38235294117647056| 0.2727272727272727|0.41935496275673245| 0.5652173913043478|331|  3.0|   2.475947816660761|    Aldrick Robinson|     WR|\n",
      "| 0.22058823529411764|0.45454545454545453| 0.5161290074486535|0.17391304347826086|449|  1.0|  1.4708984142151844|         Roger Lewis|     WR|\n",
      "|  0.7352941176470589| 0.6363636363636364| 0.4354835856595154| 0.5652173913043478|330|  0.0|             0.03125|      Braxton Miller|     WR|\n",
      "|  0.7794117647058824| 0.6363636363636364| 0.5806450372432675|0.30434782608695654|139|  0.0| 0.15042675421979582|          Tyler Boyd|     WR|\n",
      "|  0.4411764705882353|0.45454545454545453| 0.5000003845458706| 0.5652173913043478|248|  3.0|  2.3051878495747076|          Trey Quinn|     WR|\n",
      "|  0.8676470588235294| 0.6363636363636364| 0.1290328286809692| 0.5217391304347826|354|  0.0|                 0.0| Darrius Heyward-Bey|     WR|\n",
      "| 0.29411764705882354|0.36363636363636365| 0.5967744292377917|0.34782608695652173|411|  1.0|  1.5819670794383363|        Hunter Sharp|     WR|\n",
      "|  0.3088235294117647|0.45454545454545453| 0.3548389329621184|0.17391304347826086|150|  4.0|   3.398424689461163|      Dede Westbrook|     WR|\n",
      "|0.029411764705882353| 0.5454545454545454| 0.3870969478594254| 0.6086956521739131|395|  5.0|   2.918078449328449|       Bennie Fowler|     WR|\n",
      "|  0.5588235294117647| 0.5454545454545454| 0.4677423696485635| 0.2608695652173913|144|  4.0|   2.777237619201132|      Michael Gallup|     WR|\n",
      "|  0.6029411764705882| 0.5454545454545454| 0.3225809180648114| 0.6521739130434783| 50|  0.0|   0.693405752049369|        Chris Godwin|     WR|\n",
      "|  0.5294117647058824| 0.6363636363636364| 0.3870969478594254|  0.782608695652174|106|  0.0|  2.1547147208583377|        Marvin Jones|     WR|\n",
      "| 0.39705882352941174| 0.6363636363636364| 0.5000003845458706|0.30434782608695654|339|  1.0|  1.2518511998991118|         Chad Hansen|     WR|\n",
      "|  0.6176470588235294| 0.8181818181818182| 0.5000003845458706| 0.5652173913043478|286|  0.0|  0.1888276397515528|        Mack Hollins|     WR|\n",
      "|  0.6470588235294118| 0.9090909090909091| 0.6290324441350986|  0.391304347826087|215|  0.0|   0.387627331420373|     Kelvin Benjamin|     WR|\n",
      "| 0.47058823529411764|0.18181818181818182| 0.6774190819351886| 0.5217391304347826|342|  7.0|   5.197302914476827|       Jeremy Kerley|     WR|\n",
      "|  0.7647058823529411| 0.7272727272727273| 0.5000003845458706| 0.5652173913043478| 61|  0.0| 0.09579545454545454|      Alshon Jeffery|     WR|\n",
      "|  0.6176470588235294| 0.6363636363636364| 0.4354835856595154|0.34782608695652173|247|  0.0|  0.7074386706361989|       TreQuan Smith|     WR|\n",
      "|  0.3088235294117647| 0.2727272727272727| 0.2258068733728903|0.43478260869565216|253|  2.0|  2.1932104314969054|     Travis Benjamin|     WR|\n",
      "|  0.6323529411764706|0.36363636363636365| 0.3870969478594254| 0.4782608695652174|349|  2.0|   2.164652220384347|       Andre Roberts|     WR|\n",
      "| 0.10294117647058823| 0.5454545454545454| 0.5000003845458706| 0.4782608695652174|368|  1.0|  1.2012875480153722|       Byron Pringle|     WR|\n",
      "|  0.6911764705882353| 0.2727272727272727| 0.1774194664810592| 0.5652173913043478|230|  2.0|  2.1115186961072054|      Mecole Hardman|     WR|\n",
      "| 0.27941176470588236| 0.7272727272727273| 0.5645164143404846| 0.7391304347826086|325|  1.0|  1.5278228574967705|          JMon Moore|     WR|\n",
      "| 0.47058823529411764|0.09090909090909091| 0.4677423696485635|0.30434782608695654|346|  1.0|  1.7653768169880704|        Ryan Switzer|     WR|\n",
      "| 0.35294117647058826| 0.5454545454545454| 0.2580648882701973| 0.5217391304347826|175|  2.0|  2.2591478155414326|        Kenny Stills|     WR|\n",
      "| 0.45588235294117646| 0.5454545454545454| 0.5645164143404846| 0.6956521739130435|429|  1.0|  1.8385667806343107|     Aaron Burbridge|     WR|\n",
      "|  0.7941176470588235|0.36363636363636365| 0.4032255707622084| 0.6956521739130435|117|  2.0|   2.175300747389257|      Christian Kirk|     WR|\n",
      "|                0.75| 0.5454545454545454| 0.5000003845458706| 0.2608695652173913|344|  0.0|  0.6704764104459227|         Chris Moore|     WR|\n",
      "|  0.5588235294117647|0.36363636363636365| 0.6129030521405746| 0.2608695652173913|350|  3.0|   2.754962313206314|       Dwayne Harris|     WR|\n",
      "|  0.9264705882352942| 0.9090909090909091| 0.5000003845458706|0.34782608695652173| 13|  3.0|             1.70625|          Mike Evans|     WR|\n",
      "|  0.8823529411764706| 0.6363636363636364| 0.7580645037243268|0.34782608695652173|405|  0.0|  0.3736111111111111|    Laquon Treadwell|     WR|\n",
      "|  0.8676470588235294|0.45454545454545453|0.48387099255134647|0.30434782608695654|252|  0.0|  0.9716703405290362|         Marqise Lee|     WR|\n",
      "| 0.16176470588235295| 0.8181818181818182| 0.5483870223459605| 0.5652173913043478|293|  1.0|  0.9029960176699307|          Javon Wims|     WR|\n",
      "|  0.3235294117647059|0.45454545454545453|0.41935496275673245| 0.4782608695652174|287|  1.0|  2.0409480477453914|            TJ Jones|     WR|\n",
      "|  0.7352941176470589|0.45454545454545453|0.20967748137836623| 0.6086956521739131| 51|  2.0|  2.0511020294405387|      Terry McLaurin|     WR|\n",
      "| 0.11764705882352941| 0.6363636363636364| 0.3709675558649013| 0.6521739130434783|323|  5.0|   3.252840354090354|       Quincy Enunwa|     WR|\n",
      "|  0.8382352941176471| 0.5454545454545454| 0.3225809180648114| 0.2608695652173913|369|  2.0|  1.4840909090909091|         Devin Smith|     WR|\n",
      "|  0.8676470588235294| 0.6363636363636364|0.14516145158375215| 0.6086956521739131|233|  0.0|                 0.0|    Breshad Perriman|     WR|\n",
      "|  0.6323529411764706|0.45454545454545453| 0.2903229031675043|0.43478260869565216|222|  2.0|  1.9757577814899079|     Paul Richardson|     WR|\n",
      "| 0.36764705882352944| 0.6363636363636364| 0.5322583994431775|0.30434782608695654|309|  1.0|  1.1056973537452657|        Tajae Sharpe|     WR|\n",
      "|0.014705882352941176| 0.2727272727272727| 0.4677423696485635| 0.2608695652173913|382|  1.0|  1.1985000506739638|         Kaelin Clay|     WR|\n",
      "|  0.4264705882352941| 0.5454545454545454| 0.4032255707622084|0.30434782608695654|371|  4.0|  2.4990765299074873|       Tavarres King|     WR|\n",
      "|  0.8823529411764706| 0.2727272727272727| 0.1774194664810592| 0.5217391304347826| 43|  2.0|  2.0166407867494827|       Brandin Cooks|     WR|\n",
      "|  0.8382352941176471|0.45454545454545453| 0.4677423696485635|0.43478260869565216|120|  3.0|  2.0831416564801657|        Robert Woods|     WR|\n",
      "|  0.4852941176470588| 0.2727272727272727| 0.3225809180648114|0.30434782608695654|373|  2.0|   2.631206463242937|       Jarius Wright|     WR|\n",
      "|  0.8676470588235294| 0.5454545454545454| 0.3387095409675943| 0.4782608695652174| 71|  0.0|                 0.0|       Calvin Ridley|     WR|\n",
      "|                 0.0| 0.5454545454545454| 0.4677423696485635|0.17391304347826086|378|  1.0|  1.5598895757830011|       Johnny Holton|     WR|\n",
      "|  0.7794117647058824|0.36363636363636365| 0.5322583994431775|  0.782608695652174|195|  2.0|   2.684493293973108|      Anthony Miller|     WR|\n",
      "| 0.11764705882352941| 0.5454545454545454| 0.5000003845458706|0.43478260869565216|245|  1.0|  1.2012875480153722|     Jermaine Kearse|     WR|\n",
      "|  0.4117647058823529| 0.6363636363636364| 0.4354835856595154|0.34782608695652173|335|  1.0|  1.6050143008882998|        Jehu Chesson|     WR|\n",
      "|  0.8529411764705882| 0.2727272727272727| 0.5161290074486535|                0.0|169|  0.0|  0.8372319347319348|      Kendall Wright|     WR|\n",
      "|                 1.0| 0.7272727272727273| 0.5000003845458706| 0.5652173913043478|  2|  0.0|                 0.3|    Larry Fitzgerald|     WR|\n",
      "|  0.9705882352941176| 0.8181818181818182| 0.5967744292377917| 0.4782608695652174|192|  0.0|                0.45|       Mike Williams|     WR|\n",
      "|  0.5735294117647058| 0.6363636363636364| 0.3387095409675943|0.30434782608695654|337|  6.0|   4.216477541371159|           Deon Cain|     WR|\n",
      "|  0.6911764705882353| 0.5454545454545454|0.45161297765403946|0.43478260869565216|312|  0.0| 0.12762733142037302|       Leonte Carroo|     WR|\n",
      "|  0.7794117647058824|0.45454545454545453|0.14516145158375215|0.30434782608695654|450|  2.0|   1.812990557579067|     Parris Campbell|     WR|\n",
      "|  0.9411764705882353|0.45454545454545453|0.41935496275673245| 0.5217391304347826| 68|  0.0|   0.710952380952381|       Jeremy Maclin|     WR|\n",
      "| 0.14705882352941177| 0.8181818181818182| 0.8548385484162478|  0.391304347826087|404|  1.0|  1.0189385664816082|  LilJordan Humphrey|     WR|\n",
      "|  0.5588235294117647| 0.9090909090909091| 0.5322583994431775| 0.5652173913043478|420|  0.0| 0.41592695927734286|        Allen Lazard|     WR|\n",
      "| 0.22058823529411764| 0.9090909090909091| 0.5483870223459605| 0.5217391304347826|417|  1.0|  0.9562662062331609|        Jaleel Scott|     WR|\n",
      "|  0.5441176470588235|0.36363636363636365| 0.3064515260702873|0.13043478260869565|393|  4.0|  3.4216285411650147|    Antonio Callaway|     WR|\n",
      "| 0.10294117647058823| 0.5454545454545454| 0.5645164143404846|0.43478260869565216|178|  1.0|  1.1122765590043833|         Allen Hurns|     WR|\n",
      "|  0.4411764705882353| 0.5454545454545454| 0.7258064888270197|  0.391304347826087|433|  1.0|  1.7621566193541476|     Rashard Higgins|     WR|\n",
      "|  0.8088235294117647|0.36363636363636365|0.41935496275673245| 0.4782608695652174| 77|  2.0|  2.1798462019347116|        Deebo Samuel|     WR|\n",
      "|  0.8676470588235294|0.36363636363636365|                0.0| 0.4782608695652174|217|  2.0|  1.9041407867494826|           John Ross|     WR|\n",
      "|0.058823529411764705|                0.0| 0.3225809180648114| 0.4782608695652174|400|  1.0|   1.900275974025974|        Jakeem Grant|     WR|\n",
      "| 0.10294117647058823| 0.7272727272727273| 0.4032255707622084|0.43478260869565216|359|  1.0|  1.5113664596273293|           Cody Core|     WR|\n",
      "|  0.6323529411764706|0.36363636363636365| 0.3709675558649013| 0.6956521739130435|352|  2.0|  2.1725093632414896|      Markus Wheaton|     WR|\n",
      "|  0.9558823529411765| 0.5454545454545454| 0.3387095409675943| 0.5217391304347826|109|  0.0|                 0.0|       Sammy Watkins|     WR|\n",
      "|  0.7058823529411765| 0.6363636363636364| 0.6774190819351886| 0.5217391304347826| 32|  0.0| 0.09762733142037303|         Cooper Kupp|     WR|\n",
      "|  0.6764705882352942|0.36363636363636365| 0.7741931266271097| 0.5652173913043478|426|  7.0|  5.9108584169453735|       Pharoh Cooper|     WR|\n",
      "|  0.5441176470588235|0.45454545454545453| 0.3870969478594254|0.30434782608695654| 52|  4.0|  3.2755229800594536|        Stefon Diggs|     WR|\n",
      "|  0.6029411764705882| 0.6363636363636364| 0.6129030521405746| 0.6086956521739131|415|  0.0|  0.5309401017576318|       Kelvin Harmon|     WR|\n",
      "|  0.9117647058823529| 0.6363636363636364| 0.4032255707622084| 0.5217391304347826|270|  0.0|             0.00625|       Michael Floyd|     WR|\n",
      "|  0.8382352941176471| 0.6363636363636364| 0.3548389329621184| 0.5652173913043478|302|  0.0|                0.05|       Jaelen Strong|     WR|\n",
      "|                0.25| 0.7272727272727273| 0.3387095409675943| 0.4782608695652174|431|  1.0|  2.3257564935064936|         Jester Weah|     WR|\n",
      "| 0.19117647058823528| 0.8181818181818182|0.24193549627567323| 0.4782608695652174|242|  1.0|  1.6245064935064935|Marquez Valdes-Sc...|     WR|\n",
      "|  0.5441176470588235| 0.6363636363636364| 0.2903229031675043|  0.391304347826087|255|  6.0|   3.928779128672745|      Donte Moncrief|     WR|\n",
      "| 0.17647058823529413| 0.7272727272727273| 0.5483870223459605|  0.391304347826087|340|  1.0|  1.0327095056873299|      Krishawn Hogan|     WR|\n",
      "|  0.5882352941176471| 0.6363636363636364| 0.3709675558649013| 0.5652173913043478|366|  0.0|  1.6683853557789727|        Amara Darboh|     WR|\n",
      "|  0.5294117647058824|0.45454545454545453| 0.3064515260702873| 0.5217391304347826|379|  2.0|  2.3442356840221583|         Tre McBride|     WR|\n",
      "|  0.5882352941176471| 0.7272727272727273| 0.2903229031675043| 0.2608695652173913|391|  6.0|   4.137222222222222|         Josh Malone|     WR|\n",
      "|  0.7352941176470589| 0.6363636363636364|0.48387099255134647|0.30434782608695654|254|  0.0| 0.17997220876525039|   Terrance Williams|     WR|\n",
      "|  0.5294117647058824| 0.7272727272727273| 0.5645164143404846| 0.4782608695652174|288|  1.0|  1.1725271994314945|       Josh Reynolds|     WR|\n",
      "|  0.8382352941176471| 0.7272727272727273| 0.5161290074486535| 0.8260869565217391|182|  0.0|0.024583333333333336|         Kenny Britt|     WR|\n",
      "| 0.22058823529411764| 0.6363636363636364| 0.6290324441350986| 0.6521739130434783|399|  1.0|  1.2261305498044628|          Noah Brown|     WR|\n",
      "|  0.7058823529411765| 0.2727272727272727|0.41935496275673245| 0.6956521739130435| 76|  2.0|  2.1496597217482316|    Sterling Shepard|     WR|\n",
      "| 0.27941176470588236| 0.8181818181818182|0.45161297765403946| 0.6086956521739131| 74|  1.0|  0.9923293510032641|      Kenny Golladay|     WR|\n",
      "+--------------------+-------------------+-------------------+-------------------+---+-----+--------------------+--------------------+-------+\n",
      "\n"
     ]
    }
   ],
   "source": [
    "#Run model for train and get results in table\n",
    "model_train = pipeline.fit(df_train)\n",
    "pred_train = model_train.transform(df_train)\n",
    "pred_train.createOrReplaceTempView('train_results')\n",
    "select = 'select '\n",
    "for i in df_feat.columns:\n",
    "    select = select + i + ', '\n",
    "train_result = spark.sql(select + 'a.id, label, prediction, b.player, b.fantpos from train_results a inner join Id b on a.id=b.id')\n",
    "train_result.show(train_result.count())"
   ]
  },
  {
   "cell_type": "code",
   "execution_count": 997,
   "metadata": {
    "scrolled": true
   },
   "outputs": [
    {
     "name": "stdout",
     "output_type": "stream",
     "text": [
      "+--------------------+-------------------+-------------------+-------------------+---+-----+--------------------+--------------------+-------+\n",
      "|           espn_rank|             height|              forty|              bench| id|label|          prediction|              player|fantpos|\n",
      "+--------------------+-------------------+-------------------+-------------------+---+-----+--------------------+--------------------+-------+\n",
      "|  0.8970588235294118|0.36363636363636365|0.08064542178913811| 0.4782608695652174|470|  2.0|                1.75|     Henry Ruggs III|     WR|\n",
      "|  0.8823529411764706| 0.5454545454545454| 0.3387095409675943| 0.5217391304347826|467|  1.0|                1.25|    Justin Jefferson|     WR|\n",
      "|                0.25| 0.8181818181818182|0.41935496275673245| 0.4782608695652174|526|  0.0|                 0.0|       Dezmon Patmon|     WR|\n",
      "|  0.5441176470588235| 0.6363636363636364|0.41935496275673245| 0.5652173913043478|471|  1.0|                 1.2|Donovan Peoples-J...|     WR|\n",
      "|  0.4411764705882353| 0.8181818181818182| 0.6290324441350986|0.21739130434782608|513|  0.0|                0.15|      Isaiah Hodgins|     WR|\n",
      "|  0.8676470588235294|0.45454545454545453|0.45161297765403946|0.30434782608695654|503|  1.0|                 1.4|       Brandon Aiyuk|     WR|\n",
      "|  0.3088235294117647| 0.8181818181818182| 0.5806450372432675| 0.6086956521739131|473|  0.0| 0.05714285714285714|       Juwan Johnson|     WR|\n",
      "| 0.08823529411764706| 0.8181818181818182| 0.4677423696485635| 0.5652173913043478|520|  0.0| 0.07380952380952381|     Kendrick Rogers|     WR|\n",
      "|  0.6176470588235294| 0.8181818181818182| 0.6129030521405746|  0.782608695652174|528|  1.0|   1.207142857142857|Antonio Gandy-Golden|     WR|\n",
      "| 0.07352941176470588| 0.7272727272727273| 0.7096770968324957| 0.5652173913043478|476|  0.0|0.023809523809523808|          Cody White|     WR|\n",
      "|  0.9264705882352942| 0.5454545454545454| 0.3709675558649013| 0.4782608695652174|489|  1.0|                 1.1|         Jerry Jeudy|     WR|\n",
      "|  0.5735294117647058|0.45454545454545453| 0.6129030521405746| 0.5652173913043478|493|  3.0|   2.453333333333333|           K.J. Hill|     WR|\n",
      "|  0.7058823529411765| 0.5454545454545454| 0.5806450372432675| 0.5652173913043478|504|  4.0|  2.6333333333333337|Laviska Shenault Jr.|     WR|\n",
      "| 0.16176470588235295| 0.5454545454545454|0.45161297765403946| 0.4782608695652174|461|  0.0|                 0.0|    Trishton Jackson|     WR|\n",
      "| 0.35294117647058826| 0.5454545454545454| 0.8225805335189408| 0.8260869565217391|524|  0.0| 0.40714285714285714|      Quintez Cephus|     WR|\n",
      "| 0.04411764705882353| 0.7272727272727273| 0.8064511415244168| 0.5652173913043478|462|  0.0|0.023809523809523808|      Jauan Jennings|     WR|\n",
      "|  0.6323529411764706| 0.2727272727272727|0.27419351117298024| 0.5217391304347826|474|  2.0|               2.075|      Devin Duvernay|     WR|\n",
      "|                 0.5|0.45454545454545453| 0.5645164143404846| 0.5217391304347826|502|  3.0|  2.7616666666666663|     Kalija Lipscomb|     WR|\n",
      "|  0.8970588235294118| 0.6363636363636364|0.45161297765403946|0.30434782608695654|498|  1.0|                1.05|         CeeDee Lamb|     WR|\n",
      "| 0.38235294117647056| 0.6363636363636364| 0.5161290074486535|0.43478260869565216|517|  0.0|                0.15|       Gabriel Davis|     WR|\n",
      "| 0.10294117647058823| 0.6363636363636364| 0.3870969478594254|  0.391304347826087|500|  0.0|                0.05|     Tyrie Cleveland|     WR|\n",
      "|  0.2647058823529412|0.36363636363636365| 0.5967744292377917| 0.4782608695652174|457|  0.0|                0.75|        Aaron Fuller|     WR|\n",
      "| 0.23529411764705882| 0.5454545454545454| 0.5322583994431775| 0.5217391304347826|468|  0.0|0.016666666666666666|    Marquez Callaway|     WR|\n",
      "| 0.45588235294117646| 0.5454545454545454| 0.5161290074486535| 0.5217391304347826|456|  0.0|               0.625|      Quartney Davis|     WR|\n",
      "|  0.7941176470588235|0.36363636363636365| 0.4032255707622084| 0.5652173913043478|527|  2.0|  2.2666666666666666|        Jalen Reagor|     WR|\n",
      "|  0.6911764705882353| 0.8181818181818182| 0.3225809180648114| 0.6521739130434783|501|  1.0|                 1.3|      Chase Claypool|     WR|\n",
      "|  0.4264705882352941|0.45454545454545453|0.20967748137836623| 0.4782608695652174|477|  2.0|                2.07|        Quez Watkins|     WR|\n",
      "|  0.6911764705882353| 0.7272727272727273| 0.2580648882701973| 0.5217391304347826|506|  1.0|  0.9166666666666666|         Denzel Mims|     WR|\n",
      "| 0.45588235294117646| 0.5454545454545454| 0.5967744292377917| 0.5217391304347826|482|  0.0|                0.35|         Austin Mack|     WR|\n",
      "|0.014705882352941176|0.36363636363636365|0.41935496275673245| 0.6086956521739131|512|  5.0|               3.425|         K.J. Osborn|     WR|\n",
      "|                 0.0|0.18181818181818182| 0.3709675558649013|  0.391304347826087|466|  0.0|                0.25|         Jeff Thomas|     WR|\n",
      "|  0.4411764705882353|0.45454545454545453| 0.4032255707622084| 0.7391304347826086|496|  4.0|   3.578333333333334|            Joe Reed|     WR|\n",
      "+--------------------+-------------------+-------------------+-------------------+---+-----+--------------------+--------------------+-------+\n",
      "\n"
     ]
    }
   ],
   "source": [
    "#Run model for test and get results in table\n",
    "model_test = pipeline.fit(df_test)\n",
    "pred_test = model_test.transform(df_test)\n",
    "pred_test.createOrReplaceTempView('test_results')\n",
    "test_result = spark.sql(select + 'a.id, label, prediction, b.player, b.fantpos from test_results a inner join Id b on a.id=b.id')\n",
    "test_result.show(test_result.count())"
   ]
  },
  {
   "cell_type": "code",
   "execution_count": 996,
   "metadata": {},
   "outputs": [
    {
     "name": "stdout",
     "output_type": "stream",
     "text": [
      "0.8035711542043655\n"
     ]
    }
   ],
   "source": [
    "#Get accuracy score for train\n",
    "if Reg_Type =='Linear':\n",
    "    print(model_train.stages[2].summary.r2)\n",
    "if Reg_Type == 'Logistic':\n",
    "    from pyspark.ml.evaluation import MulticlassClassificationEvaluator\n",
    "    eval = MulticlassClassificationEvaluator().setMetricName('accuracy').setLabelCol('label').setPredictionCol('prediction')\n",
    "    print(eval.evaluate(pred_train))\n",
    "if Reg_Type == 'Random Forest':\n",
    "    from pyspark.ml.evaluation import RegressionEvaluator\n",
    "    eval = RegressionEvaluator().setMetricName('r2').setLabelCol('label').setPredictionCol('prediction')\n",
    "    print(eval.evaluate(pred_train))\n",
    "if Reg_Type == 'Naive Bayes':\n",
    "    from pyspark.ml.evaluation import MulticlassClassificationEvaluator\n",
    "    eval = MulticlassClassificationEvaluator().setMetricName('accuracy').setLabelCol('label').setPredictionCol('prediction')\n",
    "    print(eval.evaluate(pred_train))"
   ]
  },
  {
   "cell_type": "code",
   "execution_count": 998,
   "metadata": {},
   "outputs": [
    {
     "name": "stdout",
     "output_type": "stream",
     "text": [
      "0.8879694242836953\n"
     ]
    }
   ],
   "source": [
    "#Get accuracy score for test\n",
    "if Reg_Type =='Linear':\n",
    "    print(model_test.stages[2].summary.r2)\n",
    "if Reg_Type == 'Logistic':\n",
    "    print(eval.evaluate(pred_test))\n",
    "if Reg_Type == 'Random Forest':\n",
    "    print(eval.evaluate(pred_test))\n",
    "if Reg_Type == 'Naive Bayes':\n",
    "    print(eval.evaluate(pred_test))"
   ]
  },
  {
   "cell_type": "code",
   "execution_count": 1020,
   "metadata": {},
   "outputs": [],
   "source": [
    "spark.stop()"
   ]
  },
  {
   "cell_type": "code",
   "execution_count": null,
   "metadata": {
    "scrolled": false
   },
   "outputs": [],
   "source": []
  },
  {
   "cell_type": "code",
   "execution_count": null,
   "metadata": {},
   "outputs": [],
   "source": []
  },
  {
   "cell_type": "code",
   "execution_count": null,
   "metadata": {},
   "outputs": [],
   "source": []
  },
  {
   "cell_type": "code",
   "execution_count": null,
   "metadata": {},
   "outputs": [],
   "source": []
  }
 ],
 "metadata": {
  "kernelspec": {
   "display_name": "Python 3",
   "language": "python",
   "name": "python3"
  },
  "language_info": {
   "codemirror_mode": {
    "name": "ipython",
    "version": 3
   },
   "file_extension": ".py",
   "mimetype": "text/x-python",
   "name": "python",
   "nbconvert_exporter": "python",
   "pygments_lexer": "ipython3",
   "version": "3.7.6"
  }
 },
 "nbformat": 4,
 "nbformat_minor": 4
}
